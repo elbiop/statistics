{
 "cells": [
  {
   "cell_type": "markdown",
   "metadata": {
    "heading_collapsed": true
   },
   "source": [
    "### LOAD libraries"
   ]
  },
  {
   "cell_type": "code",
   "execution_count": 2,
   "metadata": {
    "hidden": true
   },
   "outputs": [],
   "source": [
    "import numpy as np\n",
    "import pandas as pd\n",
    "from shapely.geometry import *\n",
    "from shapely.ops import *\n",
    "from math import pow,sqrt\n",
    "import matplotlib.pyplot as plt\n",
    "import matplotlib as mpl\n",
    "# import seaborn; #seaborn.set()\n",
    "import ipywidgets as ipw\n",
    "from scipy.stats import zscore\n",
    "from scipy.special import comb\n",
    "from scipy.integrate import quad"
   ]
  },
  {
   "cell_type": "code",
   "execution_count": null,
   "metadata": {},
   "outputs": [],
   "source": []
  },
  {
   "cell_type": "markdown",
   "metadata": {
    "heading_collapsed": true
   },
   "source": [
    "### UNIFORM DISTRIBUTION"
   ]
  },
  {
   "cell_type": "markdown",
   "metadata": {
    "hidden": true
   },
   "source": [
    "Is a continuous distribution with a constant probability $\\large{p}$ in an interval from $\\large{a}$ to $\\large{b}$."
   ]
  },
  {
   "cell_type": "code",
   "execution_count": 3,
   "metadata": {
    "hidden": true
   },
   "outputs": [
    {
     "data": {
      "image/png": "[encoded data removed]",
      "text/plain": [
       "<Figure size 360x360 with 1 Axes>"
      ]
     },
     "metadata": {
      "needs_background": "light"
     },
     "output_type": "display_data"
    }
   ],
   "source": [
    "plt.figure(figsize=(5,5))\n",
    "plt.plot([1,6],[1/7,1/7])\n",
    "plt.plot([3.5,3.5],[0,1/7],':g',alpha=0.4)\n",
    "plt.xticks([1,3.5,6],labels=['a','$\\mu$','b'])\n",
    "plt.yticks([1/7],labels=['p'])\n",
    "plt.show()"
   ]
  },
  {
   "cell_type": "markdown",
   "metadata": {
    "hidden": true
   },
   "source": [
    "\n",
    "\\begin{equation*}\n",
    "\\int_\\limits{-\\infty}^{+\\infty} P(x)\\partial x=1\\\\\n",
    "p(b-a)=1\\\\\n",
    "\\end{equation*} \n",
    "$$p=\\frac{1}{b-a}$$\n",
    "\n",
    "$$P(x) = \\begin{cases}\n",
    "                \\large{\\frac{1}{b-a}}; & a<x<b\\\\\n",
    "                \\quad0; & x<a \\;\\land\\; x>b \n",
    "         \\end{cases}$$\n",
    "\n",
    "Mean and it's Standard deviation:\n",
    "\\begin{equation*}\n",
    "\\mu= a+\\frac{\\int_a^b xdx}{\\int_a^bdx} = \\left. a+\\frac{\\frac{1}{2}x^2}{x} \\right|_a^b\\\\\n",
    "\\mu=a+\\left. \\frac{x}{2} \\right|_a^b = a+\\frac{b-a}{2}\n",
    "\\end{equation*}\n",
    "$$\\mu=\\frac{a+b}{2}$$\n",
    "\n",
    "$$\\sigma=\\frac{(b-a)^2}{12}$$\n"
   ]
  },
  {
   "cell_type": "markdown",
   "metadata": {
    "heading_collapsed": true
   },
   "source": [
    "### BINOMIAL DISTRIBUTION"
   ]
  },
  {
   "cell_type": "markdown",
   "metadata": {
    "hidden": true
   },
   "source": [
    "Is the ***discrete*** probability distribution in the case of an event with probability ***P %*** ocurring ***X*** times in groups of size ***n***. \n",
    "<br>\n",
    "\n",
    "$$\\quad\\quad\\quad P(x) = \\left( \\begin{array}{c} n \\\\ x \\end{array} \\right)\\cdot p^x(1-p)^{n-x} \\quad= \\quad\\frac{n!}{x!(n-x)!}\\cdot p^x(1-p)^{n-x} $$\n",
    "\n",
    "in the case of a coin toss the probability is $\\frac{1}{2}$ the binomial distribution of HEADS <br> apearing a x times in a grup size n:\n",
    "$$ \\quad\\quad\\quad P(x) = \\frac{n!}{x!(n-x)!}\\cdot \\left(\\frac{1}{2}\\right)^n $$\n",
    "**Expected mean Value of samples** is the sum of the probability distribution times the frecuency of occurrences.<br>\n",
    "It is the most probable value of a distribution and is mean of a  sample $\\overline{x_n}$ and an estimate of the mean $\\mu$ of the _population_\n",
    "$$\\quad\\quad\\quad E(x) = \\sum_{x=0}^{n}f(x)\\cdot P(x) = \\overline{x_n}$$\n",
    "For a givem P, which is known to be the probability of a phenomena in the population, and f(x)=x . The mean is:\n",
    "\n",
    "\\begin{equation*}\n",
    "E(x) = \\sum_{x=0}^{n}x\\cdot \\frac{n!}{x!(n-x)!}\\cdot p^x(1-p)^{n-x}\\\\\n",
    "\\text{since} \\;\\;\\; x!=x(x-1)!\\,,\\;\\; p=p\\cdot p^{x-1} \\,and\\;\\;\\; n!=n(n-1)!\\\\\n",
    "E(x) = \\sum_{x=0}^{n}\\frac{\\color{blue}\\not\\mathrel{x}\\cdot \\color{blue}n(n-1)!}{\\color{blue}\\not\\mathrel{x}(x-1)!(n-x)!}\\cdot \\color{blue}p\\cdot p^{x-1}(1-p)^{n-x}\\\\\n",
    "E(x) = n\\cdot p\\sum_{x=0}^{n}\\frac{ (n-1)!}{\\color{blue}(x-1)!(n-x)!}\\cdot p^{x-1}(1-p)^{n-x}\\\\\n",
    "if \\;\\;\\; a=n-1,\\;\\;\\;b=x-1 \\therefore n-k=a-b\\\\\n",
    "E(x) = n\\cdot p\\sum_{x=0}^{n}\\frac{ a!}{a!(a-b)!}\\cdot p^a(1-p)^{a-b}\\\\\n",
    "\\text{ From equations (8) and (9)}:\n",
    "\\end{equation*}\n",
    "\n",
    "$$E(x)=\\overline{x_n}=n\\cdot p$$\n",
    "$$VAR=\\sigma^2=np(1-p)$$\n",
    "$$STD=\\sigma=\\sqrt{np(1-p)}$$\n"
   ]
  },
  {
   "cell_type": "code",
   "execution_count": 628,
   "metadata": {
    "hidden": true,
    "scrolled": false
   },
   "outputs": [
    {
     "data": {
      "application/vnd.jupyter.widget-view+json": {
       "model_id": "72a8a91055fe408d8dccd9455d498959",
       "version_major": 2,
       "version_minor": 0
      },
      "text/plain": [
       "interactive(children=(FloatSlider(value=0.5, description='Probability', max=1.0, step=0.05), Output()), _dom_c…"
      ]
     },
     "metadata": {},
     "output_type": "display_data"
    }
   ],
   "source": [
    "#What is the probability distribution of a event ocurrin x times in a group size n\n",
    "# draw the discrete probability distribution if p=30% in 10 occurrences.\n",
    "\n",
    "@ipw.interact( p=ipw.FloatSlider(min=0,max=1,step=0.05,value=.5, description='Probability'))\n",
    "def draw_prob(p):\n",
    "    n=20\n",
    "    x = np.arange(n+1)\n",
    "    prob = comb(np.full(n+1,n),x)*np.power(p,x)*np.power((1-p),n-x)\n",
    "    plt.bar(x,prob)\n",
    "    text = 'E(x) : {}\\nProbability of  0 in 20: {}\\nProbability of 20 of 20: {}'\n",
    "    ex,a,b = p*n, round(prob[0],6), round(prob[19],6)\n",
    "  \n",
    "    print(text.format(ex,a,b))"
   ]
  },
  {
   "cell_type": "markdown",
   "metadata": {
    "heading_collapsed": true
   },
   "source": [
    "### POISON DISTRIBUTION"
   ]
  },
  {
   "cell_type": "markdown",
   "metadata": {
    "hidden": true
   },
   "source": [
    "In the especial case in which the expected value $E(x)=\\overline{x_n}\\;\\;$   is a rate _(events per interval)_ it is expressed as $\\lambda=p\\cdot n\\therefore p=\\frac{\\lambda}{n}\\; $ then the probability of **k** events ocurring is: (from equations (9) and (12))<br>\n",
    "\\begin{equation*}\n",
    "\\lim\\limits_{n \\to \\infty}P(k)= \\lim\\limits_{n \\to \\infty} \\frac{n!}{k!(n-x)!}\\cdot \\left( \\frac{ \\lambda }{n} \\right)^k \\left( 1- \\frac{ \\lambda}{n} \\right)^{(n-k)} \\\\\n",
    "n!=n(n-1)(n-2)\\dots(n-k+1)(n-k)!,\\;\\;\\;\\to\\;\\;\\lim\\limits_{n \\to \\infty} \\frac{\\color{blue}{n(n-1)(n-2)\\dots (n-k+1)}\\color{red}{(n-k)!}}{\\color{green}{k!}\\color{red}{(n-x)!}}\\cdot \\frac{ \\color{green}{(\\lambda)^k} }{\\color{blue}{n^k}} \\left( 1- \\frac{ \\lambda}{n} \\right)^{(n-k)} \\\\\n",
    "\\color{green}{\\frac{(\\lambda)^k}{k!}} \\left[\\lim\\limits_{n \\to \\infty}\\color{blue}{ \\frac{n(n-1)(n-2)\\dots (n-k+1)}{n^k}}\\right] \\left[ \\lim\\limits_{n \\to \\infty} \\left( 1- \\frac{ \\lambda}{n}\\right)^{n} \\right]\\left[\\lim\\limits_{n \\to \\infty} \\left( 1- \\frac{ \\lambda}{n} \\right)^{-k}\\right]\\\\\n",
    "{\\frac{(\\lambda)^k}{k!}} \\left[\\lim\\limits_{n \\to \\infty}\\left( 1+\\frac{A_1}{n}+\\frac{A_2}{n^2}\\dots\\frac{A_{k-1}}{n^{k-1}} \\right) \\right] \\left[ \\lim\\limits_{n \\to \\infty} \\left( 1+ \\frac{ -\\lambda}{n}\\right)^{n} \\right]\\left[\\lim\\limits_{n \\to \\infty} \\left( 1- \\frac{ \\lambda}{n} \\right)^{-k}\\right]\\\\\n",
    "{\\frac{(\\lambda)^k}{k!}} \\bigg[ 1+0+0\\dots0 \\bigg] \\bigg[ e^{-\\lambda} \\bigg]\\left[\\lim\\limits_{n \\to \\infty} \\left( \\frac{n}{n-\\lambda} \\right)^{k}\\right]\\\\\n",
    "\\end{equation*}\n",
    "$$P(k)=\\frac{(\\lambda)^k}{k!}e^{-\\lambda}$$\n",
    "$$VAR=\\sigma^2=\\lambda$$\n",
    "$$STD=\\sigma=\\sqrt{\\lambda}$$\n"
   ]
  },
  {
   "cell_type": "code",
   "execution_count": 652,
   "metadata": {
    "hidden": true
   },
   "outputs": [
    {
     "data": {
      "image/png": "[encoded data removed]",
      "text/plain": [
       "<Figure size 200x130 with 1 Axes>"
      ]
     },
     "metadata": {},
     "output_type": "display_data"
    }
   ],
   "source": [
    "'''draw a poisson distribution for receptions in a hotel\n",
    "if the rate of reception per day = 36'''\n",
    "import scipy.special\n",
    "mpl.rc_file_defaults()\n",
    "plt.figure(figsize=(2,1.3))\n",
    "x=np.linspace(1,80,100)\n",
    "y=(np.power(36,x)/scipy.special.factorial(x))*np.exp(-36)\n",
    "plt.plot(x,y); plt.show();"
   ]
  },
  {
   "cell_type": "code",
   "execution_count": 627,
   "metadata": {
    "hidden": true,
    "scrolled": false
   },
   "outputs": [
    {
     "data": {
      "text/plain": [
       "2.575"
      ]
     },
     "execution_count": 627,
     "metadata": {},
     "output_type": "execute_result"
    }
   ],
   "source": [
    "#is the area under the normal prob dist from 110/50 to infinity\n",
    "def sigma_from_confidence(conf):\n",
    "    def normal_dist(x):\n",
    "        return 1/(np.sqrt(2*np.pi))*np.exp(-0.5*np.power(x,2))\n",
    "    sigma=np.hstack([np.linspace(0,1.5,500), np.linspace(1.505,3.5,400)])\n",
    "    \n",
    "    #half the area from 0 = the integral under curve\n",
    "    area = map(lambda x:quad(normal_dist,0,x)[0] ,sigma) \n",
    "    area = 2*np.round(np.array(list(area)),5)\n",
    "    return sigma[area<conf][-1]\n",
    "    \n",
    "\n",
    "sigma_from_confidence(.99)"
   ]
  },
  {
   "cell_type": "code",
   "execution_count": 629,
   "metadata": {
    "hidden": true
   },
   "outputs": [
    {
     "data": {
      "text/plain": [
       "0.080625825"
      ]
     },
     "execution_count": 629,
     "metadata": {},
     "output_type": "execute_result"
    }
   ],
   "source": [
    "2.575*0.031311"
   ]
  },
  {
   "cell_type": "markdown",
   "metadata": {
    "heading_collapsed": true
   },
   "source": [
    "### NORMAL DISTRIBUTION or GAUSS DISTRIBUTION\n"
   ]
  },
  {
   "cell_type": "markdown",
   "metadata": {
    "hidden": true
   },
   "source": [
    "\n",
    "is a continous distribution with the Probability density function:\n",
    "$$ P(x|\\mu, \\sigma) = \\frac{1} { \\sqrt{2\\pi} \\cdot \\sigma }e^{- \\frac{1}{2} \\Big( \\frac{x-\\mu}{\\sigma} \\Big)^2} $$\n",
    "From equation (5) of z-scores:\n",
    "\\begin{equation*}\n",
    "Z(x)=\\frac{x-\\mu}{\\sigma} \\therefore e^{- \\frac{1}{2} \\Big( \\frac{x-\\mu}{\\sigma} \\Big)^2}=\\frac{1}{\\sqrt{e^{(z_x)^2}}}\n",
    "\\end{equation*}\n",
    "$$P(x|\\mu, \\sigma) =\\frac{1}{\\sigma\\sqrt{2\\pi e^{(z_x)^2}}}$$\n",
    "\n",
    "A distribution is **STANDARD NORMAL DISTRIBUTION** if σ=1, and μ=0 thus:\n",
    "$$(11)\\quad\\quad\\quad P(x) = \\frac{1} { \\sqrt{2\\pi} }e^{- \\frac{x^2}{2} }$$\n",
    "\n",
    "#### THE EMPITICAL RULE\n",
    "\n",
    "The probability of occurrence of a phenomena within standard deviations are as follows:\n",
    "$$ 1\\sigma=68.2\\%,\\;\\; 2\\sigma=95.4\\%,\\;\\; 3\\sigma=99.7\\%$$\n"
   ]
  },
  {
   "cell_type": "code",
   "execution_count": 3,
   "metadata": {
    "hidden": true
   },
   "outputs": [
    {
     "data": {
      "application/vnd.jupyter.widget-view+json": {
       "model_id": "d2ea69df87d741859714bd0788e8aa52",
       "version_major": 2,
       "version_minor": 0
      },
      "text/plain": [
       "interactive(children=(FloatSlider(value=5.0, description='Mean', max=7.0, min=4.0, step=0.5), FloatSlider(valu…"
      ]
     },
     "metadata": {},
     "output_type": "display_data"
    }
   ],
   "source": [
    "\n",
    "@ipw.interact(mu=ipw.FloatSlider(min=4,max=7,step=0.5,value=5, description='Mean'),\n",
    "             sigma=ipw.FloatSlider(min=0.7,max=2,step=0.1,value=1, description='std-Dev'))\n",
    "def plot_std_dev(mu,sigma):\n",
    "    plt.figure(figsize=(15,5))\n",
    "    x=np.linspace(-2,13,1000)\n",
    "    p=1/(np.sqrt(2*np.pi)*sigma)*np.exp(-0.5*np.power((x-mu)/sigma,2))\n",
    "    \n",
    "    quartiles = (x[x<=(mu-3*sigma)][-1],x[x<=(mu-2*sigma)][-1],x[x<=(mu-sigma)][-1],\n",
    "                x[x>=(mu+sigma)][0],x[x>=(mu+2*sigma)][0],x[x>=(mu+3*sigma)][0])\n",
    "    plt.plot([mu,mu],[0,p.max()],':b')\n",
    "    plt.xticks(ticks=np.hstack([quartiles[:3],[mu],quartiles[3:]]),\n",
    "                                labels=['-3σ\\n0.1%','-2σ\\n2.3%','-σ\\n15.9%','μ\\n50%',\n",
    "                                        '+σ\\n84.1%', '+2σ\\n97.7', '+3σ\\n99.9'],size=11)#, angle=60 )\n",
    "    \n",
    "    plt.ylim([0,0.62])\n",
    "    plt.plot(x,p)"
   ]
  },
  {
   "cell_type": "code",
   "execution_count": 16,
   "metadata": {
    "hidden": true,
    "scrolled": false
   },
   "outputs": [
    {
     "name": "stdout",
     "output_type": "stream",
     "text": [
      "For a=1,b=2 --> P(a,b) =  0.0807  =  CDF(20)-CDF(12) = 0.0195\n"
     ]
    },
    {
     "data": {
      "image/png": "[encoded data removed]",
      "text/plain": [
       "<Figure size 640x480 with 2 Axes>"
      ]
     },
     "metadata": {},
     "output_type": "display_data"
    }
   ],
   "source": [
    "#find the probability that a random variable can take the value between 1 and 3\n",
    "# of the normal distribution below-->(5) from\n",
    "from math import pi\n",
    "σ=1.5\n",
    "μ=5\n",
    "\n",
    "x=np.arange(100)/10\n",
    "prob=(1/(sqrt(2*pi)*σ))*(np.exp(-0.5*np.power((x-μ)/σ,2)))/10\n",
    "CDF=np.cumsum(prob)\n",
    "p_ab = round(np.sum(prob[12:30]),4)\n",
    "cdf = round(CDF[20]-CDF[11],4)\n",
    "print(\"For a=1,b=2 --> P(a,b) = \",p_ab,\" =  CDF(20)-CDF(12) =\", cdf)\n",
    "plt.subplot(2,1,1)\n",
    "plt.title(\"CUMULATIVE DISTRIBUTION\")\n",
    "plt.plot(x,CDF)\n",
    "plt.scatter( [x[10],x[30]], [CDF[10],CDF[30]])\n",
    "plt.subplot(2,1,2)\n",
    "plt.plot(x,prob)\n",
    "plt.fill_between(x[10:30],prob[10:30])\n",
    "plt.show()"
   ]
  },
  {
   "cell_type": "markdown",
   "metadata": {
    "heading_collapsed": true
   },
   "source": [
    "###   BERNOULLI DISTRIBUTION"
   ]
  },
  {
   "cell_type": "markdown",
   "metadata": {
    "hidden": true
   },
   "source": [
    "\n",
    "\n",
    "Is a special case of the binomial distribution in which there is random variable ***X*** with two possible\n",
    "boolean outcomes: 1=True,yes,Favorable,accepted... with probability ***p*** or  0=False,no,unfavorable,\n",
    "rejected.... with probability ***(1-p)*** \n",
    "\n",
    "the probability mass function is guiven by:\n",
    "\n",
    "$$ f(x|p)= \\begin{cases} p & \\quad \\text{ if } x=1 \\\\ 1-p & \\quad \\text{ if } x=0 \\end{cases} $$\n",
    "also can be rfepresented as:$$ f(x|p)=p^x(1-p)^{1-x} \\quad \\text{ for } x\\in \\{0,1\\}$$\n",
    "\n",
    "\n",
    "Mean and variance:\n",
    "\\begin{equation*}\n",
    "\\text{from equation (12)}:\\;\\; \\mu=(1-p)0+p(1)\n",
    "\\end{equation*}\n",
    "$$\\mu=p$$\n",
    "$$\\sigma^2=p(1-p)$$<br>\n",
    "$$mode=median=\\begin{cases} 0 & \\text{ if } & p<\\frac{1}{2}\\\\ 0,1 & \\text{ if } & p= \\frac{1}{2}\\\\\n",
    "1 & \\text{if} & p>\\frac{1}{2} \\end{cases}$$\n",
    "\n"
   ]
  },
  {
   "cell_type": "markdown",
   "metadata": {
    "heading_collapsed": true
   },
   "source": [
    "### SAMPLING."
   ]
  },
  {
   "cell_type": "markdown",
   "metadata": {
    "hidden": true
   },
   "source": [
    "#### Strattiffied sampling\n",
    "when a population is represented by different groups $x_1,x_2,\\dots,x_k$ with frecuencies $p_1,p_2,\\dots,p_k$ of then a randomized sample size $\\large{n}$ must be representative of the population and must deliberately appear in quantities $np_1,np_2,\\dots,np_n$"
   ]
  },
  {
   "cell_type": "markdown",
   "metadata": {
    "hidden": true
   },
   "source": [
    "\n",
    "#### Mean and variance of a Sample size n:\n",
    "The mean for a sample group of size **n** from a population size **N** is:\n",
    "$$\\overline{x}=\\frac{\\sum\\limits_{i=1}^{n} (x_i)}{n}$$<br>\n",
    "The variance of the elemnts in the sample group, knowing the mean **$\\mu$** of the population is given by:\n",
    "$$ VAR_n=s^2=\\frac{\\sum\\limits_{i=1}^{n}(x_i-\\mu)^2}{n}$$\n",
    "\n",
    "#### Law of Large Numbers (LLN)\n",
    "The mean of a sample tends towards the mean of the population when the sample size gets larger\n",
    "$$\\quad\\quad \\lim_\\limits{n \\to \\infty} \\overline{x}=\\mu$$\n",
    "\n"
   ]
  },
  {
   "cell_type": "markdown",
   "metadata": {
    "hidden": true
   },
   "source": [
    "#### Mean distribution of samples\n",
    "\n",
    "Is the probability distribution of the $\\mathbf{n}$ means **$\\overline{ \\mathbf{x_i}}$** and with a MEAN OF THE MEANS\n",
    "$\\large{\\mathbf{ \\mu_{\\overline{x}}}}$ :\n",
    "\n",
    "$$\\mu_\\overline{x}=\\frac{\\sum_\\limits{i=1}^{n} \\overline{x}_i}{n}$$\n",
    "\n",
    "#### Central linit theorem (CLT)\n",
    "\n",
    "As the number of samples increases, the distribution of the mean of those samples aproaches a normal distribution and the mean of that distribution ( the mean of the mean of the samples ) aproaches the mean of the population.\n",
    "\n",
    "$$\\lim_\\limits{n \\to \\infty} \\mu_\\overline{x} \\to \\mu$$\n",
    "\n",
    "#### Estimating the variance of a sample:\n",
    "If *$\\mu$* is unknown the variance of the population can be estimated using the variance of the samples $\\overline{\\textbf{x}}$ but istead of dividing by n one degree of freedom less is optimal : n-1\n",
    "$$VAR=s^2=\\frac{\\sum\\limits_{i=1}^{n}(x_i-\\overline{x})^2}{n-1}$$\n",
    "\n",
    "\n",
    "#### Standar Error of the means distribution\n",
    "For any given population with variance **$σ^2$** ; the variance of the mean distribution of n samples size x from the population,is guiven by:\n",
    "\n",
    "$${\\large\\sigma\\small}_{\\overline{x}}^2\\approx\\frac{\\sigma^2}n$$\n",
    "\n",
    "and the standard deviation of the sample mean is known as the Standard error of the sample mean distribution:\n",
    "\n",
    "$$\\mathcal{\\large\\sigma\\small}_{\\small\\overline{x}}\\approx\\frac{\\sigma}{\\sqrt{n}}$$\n",
    "\n",
    "For the Bernoully distribution\n",
    "\n",
    "$${\\large\\sigma\\small}_\\overline{x} \\approx\\sqrt{\\frac{np(1-p)}{n-1}}$$\n",
    "\n",
    "#### Using Z-scores from Standard distribution to estimate P-Values\n",
    "\n",
    "With the z-score from a value we can calculate the corresponding p-values in a normal distribution z-table"
   ]
  },
  {
   "cell_type": "code",
   "execution_count": null,
   "metadata": {
    "hidden": true
   },
   "outputs": [],
   "source": []
  },
  {
   "cell_type": "code",
   "execution_count": 637,
   "metadata": {
    "hidden": true
   },
   "outputs": [
    {
     "data": {
      "image/png": "[encoded data removed]",
      "text/plain": [
       "<Figure size 1080x360 with 3 Axes>"
      ]
     },
     "metadata": {},
     "output_type": "display_data"
    }
   ],
   "source": [
    "# EXERCISE: LAW OF CENTRAL LIMIT THEOREM & ESTIMATION OF THE COVARIANCE WITH TWO DIFFERENT SAMPLE SIZES\n",
    "# there are 5 tipes of phenomena 1,2,3,4 and 5 and the population is 365000\n",
    "\n",
    "dist = np.hstack([np.full(1000000,1),np.full(750000,2),np.full(300000,3),np.full(100000,4),np.full(1500000,5)])\n",
    "random_index = np.random.permutation(np.arange(3650000))\n",
    "dist = dist[random_index]\n",
    "plt.subplots(1,3,figsize=(15,5))\n",
    "plt.subplot(1,3,1)\n",
    "plt.hist(dist,bins=5)\n",
    "title0 = 'ORIGINAL DISCRETE DISTRIBUTION\\nwith μ={}'.format(round(dist.mean(),3))\n",
    "title1 = '\\n$\\sigma$={}'.format(round(dist.std(),3))\n",
    "plt.title(title0 + title1)\n",
    "\n",
    "def sample_n(n):\n",
    "    s=np.zeros(10000)\n",
    "    for i in range(10000):\n",
    "        s[i] = np.random.choice(dist,n).mean()\n",
    "    sample_means = s\n",
    "    ax=plt.gca()\n",
    "    ax.hist(sample_means,bins=np.unique(sample_means))\n",
    "    title0 = 'means dist., sample sizes ={}'.format(n) + '\\nempirical mean $\\overline{x}$'\n",
    "    title1 = '={}'.format(round(sample_means.mean(),3))\n",
    "    title2 = '\\nEmpirical $\\sigma$={}'.format(round(sample_means.std(),3))\n",
    "    title3 = '\\nTheoretical $\\sigma$={}'.format(round(dist.std()/np.sqrt(n),3))\n",
    "    ax.set_title(title0 + title1 + title2 + title3)\n",
    "\n",
    "#taking 10000 random samples size 9 sample_mean = μ/3 = 0.574\n",
    "plt.subplot(1,3,2)\n",
    "sample_n(9)\n",
    "\n",
    "#taking 10000 random samples size 16 samples_mean = μ/4 = 0.43\n",
    "plt.subplot(1,3,3)\n",
    "sample_n(16)"
   ]
  },
  {
   "cell_type": "markdown",
   "metadata": {
    "hidden": true
   },
   "source": [
    "$$P(-\\mu_{\\overline{x}}\\leq x \\leq +\\mu_{\\overline{x}})\\leq5\\%$$"
   ]
  },
  {
   "cell_type": "markdown",
   "metadata": {
    "hidden": true
   },
   "source": [
    "#### Margin of Error\n",
    "The probability of the mean of the samples means mean $\\mu_{\\overline{x_n}}$ being within two standard deviations from the population mean $\\mu$.is the same as the probability of the population mean being at two standard deiations from the sample means mean:\n",
    "\n",
    "\\begin{equation*}\n",
    "^*{\\mathtt{\\text{95% is the usual covention of acceptance of confidence}}}\\\\\n",
    "\\displaystyle{P(\\;\\mu_{\\overline{x}} \\in (\\;\\mu\\pm 2\\sigma_{\\overline{x}}\\;)\\;)=P(\\;\\mu \\in (\\;\\mu_{\\overline{x}}\\pm 2\\sigma_{\\overline{x}}\\;)\\;)}=95\\%^{*}\n",
    "\\end{equation*}\n",
    "\n",
    "\n",
    "\n",
    "\n",
    "\n",
    "#### Sampling Process\n",
    "It consists of 5 basic steps:\n",
    "\n",
    "• Select the sample size <b>n</b> of your sample (if not given ).<br>\n",
    "• Select your samples such as tey represent each group proportionally i.e. if pooling people: the correct proportion<br>\n",
    "   $\\quad$of womomen and men, or young and old or by ethnicity...whichever is more relevant.<br>\n",
    "• Calculate the sample mean $\\mathbf{\\overline{x}}$<br>\n",
    "• Estimate the population Standard deviation $\\mathbf{\\sigma}$ <br>\n",
    "• Estimate the standard Error $\\mathbf{\\sigma_\\overline{x}}$.<br>\n",
    "• Calculate your confidence interval<br>\n",
    "\n",
    "\n",
    "A sample size of $n\\geq30$ can be used for estimations using the standart deviation distribution aproximation bun for $n\\;\\leq\\;30$ a $\\texttt{ t-distribution}$ is required"
   ]
  },
  {
   "cell_type": "markdown",
   "metadata": {
    "hidden": true
   },
   "source": [
    "##### Estimating the mean of a mass distribution using sampling CI=95%"
   ]
  },
  {
   "cell_type": "code",
   "execution_count": 634,
   "metadata": {
    "hidden": true,
    "scrolled": true
   },
   "outputs": [
    {
     "name": "stdout",
     "output_type": "stream",
     "text": [
      "In 10,000 trials this prediction was right 99.84% of the time predicting 𝜇\n"
     ]
    },
    {
     "data": {
      "image/png": "[encoded data removed]",
      "text/plain": [
       "<Figure size 432x288 with 1 Axes>"
      ]
     },
     "metadata": {},
     "output_type": "display_data"
    }
   ],
   "source": [
    "#np.random.seed(42)\n",
    "\n",
    "plt.hist(sample100,bins=5)\n",
    "mean   = dist.mean()\n",
    "#from the law of large numbers\n",
    "counts = np.zeros(10000)\n",
    "\n",
    "for i in range(10000):\n",
    "    sample100 = np.random.choice(dist,100)\n",
    "    sample_mean = sample100.mean()         #Step 3\n",
    "    pop_std = np.power(sample100-sample_mean,2).sum()/(sample100.size-1)  #Step 4\n",
    "    std_err = pop_std/(sqrt(100))          #step 5\n",
    "    minim   = sample_mean-2*std_err \n",
    "    maxim   = sample_mean+2*std_err\n",
    "    if minim <= mean and maxim >= mean:    #Step 6\n",
    "        counts[i]=True\n",
    "    else:\n",
    "        counts[i]=False\n",
    "    #interval    = \"With a confidence of 95% the confidence interval is from {} to {}\\nReal population mean: {}\"\n",
    "    #print(interval.format(round(minim,3),round(maxim,3),round(dist.mean(),3)))\n",
    "percentage =   str(round(np.count_nonzero(counts)/10000*100,2)) \n",
    "print(\"In 10,000 trials this prediction was right \" +percentage +\"% of the time predicting 𝜇\")"
   ]
  },
  {
   "cell_type": "code",
   "execution_count": 4,
   "metadata": {
    "hidden": true
   },
   "outputs": [
    {
     "data": {
      "text/plain": [
       "3982782059108743949"
      ]
     },
     "execution_count": 4,
     "metadata": {},
     "output_type": "execute_result"
    }
   ],
   "source": [
    "hash(str(pd.DataFrame({'a':[1,2,3],'b':[1,5,6]})))"
   ]
  },
  {
   "cell_type": "markdown",
   "metadata": {
    "hidden": true
   },
   "source": [
    "##### Estimating the mean of  with a bernoulli distribution using samples CI=95%\n"
   ]
  },
  {
   "cell_type": "code",
   "execution_count": 488,
   "metadata": {
    "hidden": true
   },
   "outputs": [
    {
     "name": "stdout",
     "output_type": "stream",
     "text": [
      "margin of error = 8.91% of the mean\n",
      "Right 95.7% of the time predicting 𝜇 in 1000 trials\n"
     ]
    }
   ],
   "source": [
    "\n",
    "#generats prefferences of population with candidate 1 as favorite\n",
    "#np.random.seed(4002)\n",
    "poblacion = np.hstack([np.random.randint(0,2,300000),\n",
    "                     np.full(200000,1), np.full(100000,0)]) \n",
    "\n",
    "#randomize the population\n",
    "poblacion = np.random.permutation(poblacion)\n",
    "index     = np.random.permutation(range(600000))\n",
    "poblacion = poblacion[index]\n",
    "pop_mean  = np.nonzero(poblacion)[0].size/600000\n",
    "k=1000\n",
    "counts = np.zeros(k)\n",
    "print_one=1\n",
    "for i in range(k):\n",
    "    n = 100 #number of samples\n",
    "    encuesta  = np.random.choice(poblacion,n) #initialize samples\n",
    "    p = np.nonzero(encuesta)[0].size/n # which is the mean.\n",
    "    pop_var   = p*(1-p)*n/(n-1) #estimating \n",
    "    pop_std   = sqrt(pop_var)\n",
    "    std_err   = pop_std/sqrt(n)\n",
    "    if print_one:\n",
    "        print(\"margin of error = {}% of the mean\".format(round(std_err/p*100,2)))\n",
    "        print_one=0\n",
    "        #print(p,pop_var,pop_std,std_err)\n",
    "    counts[i] = pop_mean < p+2*std_err and pop_mean > p-2*std_err\n",
    "print(\"Right {}%\".format(round(counts.nonzero()[0].size/k,3)*100)+\" of the time predicting 𝜇 in 1000 trials\")"
   ]
  },
  {
   "cell_type": "markdown",
   "metadata": {
    "hidden": true
   },
   "source": [
    "##### Estimatinga several means in a mass distribution CI=95%"
   ]
  },
  {
   "cell_type": "code",
   "execution_count": 484,
   "metadata": {
    "hidden": true
   },
   "outputs": [],
   "source": [
    "\n",
    "means = np.unique(dist,return_counts=True)[1]/3650000\n",
    "k=1000\n",
    "counts = np.zeros(k)\n",
    "for i in range(k):\n",
    "    n = 100 #number of samples\n",
    "    encuesta  = np.random.choice(dist,n) #initialize samples\n",
    "#     p = np.nonzero(encuesta)[0].size/n # which is the mean.\n",
    "#     pop_var   = p*(1-p)*n/(n-1) #estimating \n",
    "#     pop_std   = sqrt(pop_var)\n",
    "#     std_err   = pop_std/sqrt(n)\n",
    "#     #print(p,pop_var,pop_std,std_err)\n",
    "#     counts[i] = pop_mean < p+2*std_err and pop_mean > p-2*std_err\n",
    "# print(\"Right {}%\".format(round(counts.nonzero()[0].size/k,3)*100)+\" of the time predicting 𝜇 in 1000 trials\")"
   ]
  },
  {
   "cell_type": "code",
   "execution_count": null,
   "metadata": {
    "hidden": true
   },
   "outputs": [],
   "source": []
  },
  {
   "cell_type": "markdown",
   "metadata": {
    "heading_collapsed": true
   },
   "source": [
    "### UNIFORM DISTRIBUTION"
   ]
  },
  {
   "cell_type": "markdown",
   "metadata": {
    "hidden": true
   },
   "source": [
    "Is a continuous distribution with a constant probability $\\large{p}$ in an interval from $\\large{a}$ to $\\large{b}$."
   ]
  },
  {
   "cell_type": "code",
   "execution_count": 3,
   "metadata": {
    "hidden": true
   },
   "outputs": [
    {
     "data": {
      "image/png": "[encoded data removed]",
      "text/plain": [
       "<Figure size 360x360 with 1 Axes>"
      ]
     },
     "metadata": {
      "needs_background": "light"
     },
     "output_type": "display_data"
    }
   ],
   "source": [
    "plt.figure(figsize=(5,5))\n",
    "plt.plot([1,6],[1/7,1/7])\n",
    "plt.plot([3.5,3.5],[0,1/7],':g',alpha=0.4)\n",
    "plt.xticks([1,3.5,6],labels=['a','$\\mu$','b'])\n",
    "plt.yticks([1/7],labels=['p'])\n",
    "plt.show()"
   ]
  },
  {
   "cell_type": "markdown",
   "metadata": {
    "hidden": true
   },
   "source": [
    "\n",
    "\\begin{equation*}\n",
    "\\int_\\limits{-\\infty}^{+\\infty} P(x)\\partial x=1\\\\\n",
    "p(b-a)=1\\\\\n",
    "\\end{equation*} \n",
    "$$p=\\frac{1}{b-a}$$\n",
    "\n",
    "$$P(x) = \\begin{cases}\n",
    "                \\large{\\frac{1}{b-a}}; & a<x<b\\\\\n",
    "                \\quad0; & x<a \\;\\land\\; x>b \n",
    "         \\end{cases}$$\n",
    "\n",
    "Mean and it's Standard deviation:\n",
    "\\begin{equation*}\n",
    "\\mu= a+\\frac{\\int_a^b xdx}{\\int_a^bdx} = \\left. a+\\frac{\\frac{1}{2}x^2}{x} \\right|_a^b\\\\\n",
    "\\mu=a+\\left. \\frac{x}{2} \\right|_a^b = a+\\frac{b-a}{2}\n",
    "\\end{equation*}\n",
    "$$\\mu=\\frac{a+b}{2}$$\n",
    "\n",
    "$$\\sigma=\\frac{(b-a)^2}{12}$$\n"
   ]
  },
  {
   "cell_type": "markdown",
   "metadata": {
    "heading_collapsed": true
   },
   "source": [
    "### BINOMIAL DISTRIBUTION"
   ]
  },
  {
   "cell_type": "markdown",
   "metadata": {
    "hidden": true
   },
   "source": [
    "Is the ***discrete*** probability distribution in the case of an event with probability ***P %*** ocurring ***X*** times in groups of size ***n***. \n",
    "<br>\n",
    "\n",
    "$$\\quad\\quad\\quad P(x) = \\left( \\begin{array}{c} n \\\\ x \\end{array} \\right)\\cdot p^x(1-p)^{n-x} \\quad= \\quad\\frac{n!}{x!(n-x)!}\\cdot p^x(1-p)^{n-x} $$\n",
    "\n",
    "in the case of a coin toss the probability is $\\frac{1}{2}$ the binomial distribution of HEADS <br> apearing a x times in a grup size n:\n",
    "$$ \\quad\\quad\\quad P(x) = \\frac{n!}{x!(n-x)!}\\cdot \\left(\\frac{1}{2}\\right)^n $$\n",
    "**Expected mean Value of samples** is the sum of the probability distribution times the frecuency of occurrences.<br>\n",
    "It is the most probable value of a distribution and is mean of a  sample $\\overline{x_n}$ and an estimate of the mean $\\mu$ of the _population_\n",
    "$$\\quad\\quad\\quad E(x) = \\sum_{x=0}^{n}f(x)\\cdot P(x) = \\overline{x_n}$$\n",
    "For a givem P, which is known to be the probability of a phenomena in the population, and f(x)=x . The mean is:\n",
    "\n",
    "\\begin{equation*}\n",
    "E(x) = \\sum_{x=0}^{n}x\\cdot \\frac{n!}{x!(n-x)!}\\cdot p^x(1-p)^{n-x}\\\\\n",
    "\\text{since} \\;\\;\\; x!=x(x-1)!\\,,\\;\\; p=p\\cdot p^{x-1} \\,and\\;\\;\\; n!=n(n-1)!\\\\\n",
    "E(x) = \\sum_{x=0}^{n}\\frac{\\color{blue}\\not\\mathrel{x}\\cdot \\color{blue}n(n-1)!}{\\color{blue}\\not\\mathrel{x}(x-1)!(n-x)!}\\cdot \\color{blue}p\\cdot p^{x-1}(1-p)^{n-x}\\\\\n",
    "E(x) = n\\cdot p\\sum_{x=0}^{n}\\frac{ (n-1)!}{\\color{blue}(x-1)!(n-x)!}\\cdot p^{x-1}(1-p)^{n-x}\\\\\n",
    "if \\;\\;\\; a=n-1,\\;\\;\\;b=x-1 \\therefore n-k=a-b\\\\\n",
    "E(x) = n\\cdot p\\sum_{x=0}^{n}\\frac{ a!}{a!(a-b)!}\\cdot p^a(1-p)^{a-b}\\\\\n",
    "\\text{ From equations (8) and (9)}:\n",
    "\\end{equation*}\n",
    "\n",
    "$$E(x)=\\overline{x_n}=n\\cdot p$$\n",
    "$$VAR=\\sigma^2=np(1-p)$$\n",
    "$$STD=\\sigma=\\sqrt{np(1-p)}$$\n"
   ]
  },
  {
   "cell_type": "code",
   "execution_count": 628,
   "metadata": {
    "hidden": true,
    "scrolled": false
   },
   "outputs": [
    {
     "data": {
      "application/vnd.jupyter.widget-view+json": {
       "model_id": "72a8a91055fe408d8dccd9455d498959",
       "version_major": 2,
       "version_minor": 0
      },
      "text/plain": [
       "interactive(children=(FloatSlider(value=0.5, description='Probability', max=1.0, step=0.05), Output()), _dom_c…"
      ]
     },
     "metadata": {},
     "output_type": "display_data"
    }
   ],
   "source": [
    "#What is the probability distribution of a event ocurrin x times in a group size n\n",
    "# draw the discrete probability distribution if p=30% in 10 occurrences.\n",
    "\n",
    "@ipw.interact( p=ipw.FloatSlider(min=0,max=1,step=0.05,value=.5, description='Probability'))\n",
    "def draw_prob(p):\n",
    "    n=20\n",
    "    x = np.arange(n+1)\n",
    "    prob = comb(np.full(n+1,n),x)*np.power(p,x)*np.power((1-p),n-x)\n",
    "    plt.bar(x,prob)\n",
    "    text = 'E(x) : {}\\nProbability of  0 in 20: {}\\nProbability of 20 of 20: {}'\n",
    "    ex,a,b = p*n, round(prob[0],6), round(prob[19],6)\n",
    "  \n",
    "    print(text.format(ex,a,b))"
   ]
  },
  {
   "cell_type": "markdown",
   "metadata": {
    "heading_collapsed": true
   },
   "source": [
    "### POISON DISTRIBUTION"
   ]
  },
  {
   "cell_type": "markdown",
   "metadata": {
    "hidden": true
   },
   "source": [
    "In the especial case in which the expected value $E(x)=\\overline{x_n}\\;\\;$   is a rate _(events per interval)_ it is expressed as $\\lambda=p\\cdot n\\therefore p=\\frac{\\lambda}{n}\\; $ then the probability of **k** events ocurring is: (from equations (9) and (12))<br>\n",
    "\\begin{equation*}\n",
    "\\lim\\limits_{n \\to \\infty}P(k)= \\lim\\limits_{n \\to \\infty} \\frac{n!}{k!(n-x)!}\\cdot \\left( \\frac{ \\lambda }{n} \\right)^k \\left( 1- \\frac{ \\lambda}{n} \\right)^{(n-k)} \\\\\n",
    "n!=n(n-1)(n-2)\\dots(n-k+1)(n-k)!,\\;\\;\\;\\to\\;\\;\\lim\\limits_{n \\to \\infty} \\frac{\\color{blue}{n(n-1)(n-2)\\dots (n-k+1)}\\color{red}{(n-k)!}}{\\color{green}{k!}\\color{red}{(n-x)!}}\\cdot \\frac{ \\color{green}{(\\lambda)^k} }{\\color{blue}{n^k}} \\left( 1- \\frac{ \\lambda}{n} \\right)^{(n-k)} \\\\\n",
    "\\color{green}{\\frac{(\\lambda)^k}{k!}} \\left[\\lim\\limits_{n \\to \\infty}\\color{blue}{ \\frac{n(n-1)(n-2)\\dots (n-k+1)}{n^k}}\\right] \\left[ \\lim\\limits_{n \\to \\infty} \\left( 1- \\frac{ \\lambda}{n}\\right)^{n} \\right]\\left[\\lim\\limits_{n \\to \\infty} \\left( 1- \\frac{ \\lambda}{n} \\right)^{-k}\\right]\\\\\n",
    "{\\frac{(\\lambda)^k}{k!}} \\left[\\lim\\limits_{n \\to \\infty}\\left( 1+\\frac{A_1}{n}+\\frac{A_2}{n^2}\\dots\\frac{A_{k-1}}{n^{k-1}} \\right) \\right] \\left[ \\lim\\limits_{n \\to \\infty} \\left( 1+ \\frac{ -\\lambda}{n}\\right)^{n} \\right]\\left[\\lim\\limits_{n \\to \\infty} \\left( 1- \\frac{ \\lambda}{n} \\right)^{-k}\\right]\\\\\n",
    "{\\frac{(\\lambda)^k}{k!}} \\bigg[ 1+0+0\\dots0 \\bigg] \\bigg[ e^{-\\lambda} \\bigg]\\left[\\lim\\limits_{n \\to \\infty} \\left( \\frac{n}{n-\\lambda} \\right)^{k}\\right]\\\\\n",
    "\\end{equation*}\n",
    "$$P(k)=\\frac{(\\lambda)^k}{k!}e^{-\\lambda}$$\n",
    "$$VAR=\\sigma^2=\\lambda$$\n",
    "$$STD=\\sigma=\\sqrt{\\lambda}$$\n"
   ]
  },
  {
   "cell_type": "code",
   "execution_count": 652,
   "metadata": {
    "hidden": true
   },
   "outputs": [
    {
     "data": {
      "image/png": "[encoded data removed]",
      "text/plain": [
       "<Figure size 200x130 with 1 Axes>"
      ]
     },
     "metadata": {},
     "output_type": "display_data"
    }
   ],
   "source": [
    "'''draw a poisson distribution for receptions in a hotel\n",
    "if the rate of reception per day = 36'''\n",
    "import scipy.special\n",
    "mpl.rc_file_defaults()\n",
    "plt.figure(figsize=(2,1.3))\n",
    "x=np.linspace(1,80,100)\n",
    "y=(np.power(36,x)/scipy.special.factorial(x))*np.exp(-36)\n",
    "plt.plot(x,y); plt.show();"
   ]
  },
  {
   "cell_type": "code",
   "execution_count": 627,
   "metadata": {
    "hidden": true,
    "scrolled": false
   },
   "outputs": [
    {
     "data": {
      "text/plain": [
       "2.575"
      ]
     },
     "execution_count": 627,
     "metadata": {},
     "output_type": "execute_result"
    }
   ],
   "source": [
    "#is the area under the normal prob dist from 110/50 to infinity\n",
    "def sigma_from_confidence(conf):\n",
    "    def normal_dist(x):\n",
    "        return 1/(np.sqrt(2*np.pi))*np.exp(-0.5*np.power(x,2))\n",
    "    sigma=np.hstack([np.linspace(0,1.5,500), np.linspace(1.505,3.5,400)])\n",
    "    \n",
    "    #half the area from 0 = the integral under curve\n",
    "    area = map(lambda x:quad(normal_dist,0,x)[0] ,sigma) \n",
    "    area = 2*np.round(np.array(list(area)),5)\n",
    "    return sigma[area<conf][-1]\n",
    "    \n",
    "\n",
    "sigma_from_confidence(.99)"
   ]
  },
  {
   "cell_type": "code",
   "execution_count": 629,
   "metadata": {
    "hidden": true
   },
   "outputs": [
    {
     "data": {
      "text/plain": [
       "0.080625825"
      ]
     },
     "execution_count": 629,
     "metadata": {},
     "output_type": "execute_result"
    }
   ],
   "source": [
    "2.575*0.031311"
   ]
  },
  {
   "cell_type": "markdown",
   "metadata": {
    "heading_collapsed": true
   },
   "source": [
    "### NORMAL DISTRIBUTION or GAUSS DISTRIBUTION\n"
   ]
  },
  {
   "cell_type": "markdown",
   "metadata": {
    "hidden": true
   },
   "source": [
    "\n",
    "is a continous distribution with the Probability density function:\n",
    "$$ P(x|\\mu, \\sigma) = \\frac{1} { \\sqrt{2\\pi} \\cdot \\sigma }e^{- \\frac{1}{2} \\Big( \\frac{x-\\mu}{\\sigma} \\Big)^2} $$\n",
    "From equation (5) of z-scores:\n",
    "\\begin{equation*}\n",
    "Z(x)=\\frac{x-\\mu}{\\sigma} \\therefore e^{- \\frac{1}{2} \\Big( \\frac{x-\\mu}{\\sigma} \\Big)^2}=\\frac{1}{\\sqrt{e^{(z_x)^2}}}\n",
    "\\end{equation*}\n",
    "$$P(x|\\mu, \\sigma) =\\frac{1}{\\sigma\\sqrt{2\\pi e^{(z_x)^2}}}$$\n",
    "\n",
    "A distribution is **STANDARD NORMAL DISTRIBUTION** if σ=1, and μ=0 thus:\n",
    "$$(11)\\quad\\quad\\quad P(x) = \\frac{1} { \\sqrt{2\\pi} }e^{- \\frac{x^2}{2} }$$\n",
    "\n",
    "#### THE EMPITICAL RULE\n",
    "\n",
    "The probability of occurrence of a phenomena within standard deviations are as follows:\n",
    "$$ 1\\sigma=68.2\\%,\\;\\; 2\\sigma=95.4\\%,\\;\\; 3\\sigma=99.7\\%$$\n"
   ]
  },
  {
   "cell_type": "code",
   "execution_count": 7,
   "metadata": {
    "hidden": true
   },
   "outputs": [
    {
     "data": {
      "application/vnd.jupyter.widget-view+json": {
       "model_id": "38e7decf9114495e9b7101e9328c619f",
       "version_major": 2,
       "version_minor": 0
      },
      "text/plain": [
       "interactive(children=(FloatSlider(value=5.0, description='Mean', max=7.0, min=4.0, step=0.5), FloatSlider(valu…"
      ]
     },
     "metadata": {},
     "output_type": "display_data"
    }
   ],
   "source": [
    "\n",
    "@ipw.interact(mu=ipw.FloatSlider(min=4,max=7,step=0.5,value=5, description='Mean'),\n",
    "             sigma=ipw.FloatSlider(min=0.7,max=2,step=0.1,value=1, description='std-Dev'))\n",
    "def plot_std_dev(mu,sigma):\n",
    "    plt.figure(figsize=(15,5))\n",
    "    x=np.linspace(-2,13,1000)\n",
    "    p=1/(np.sqrt(2*np.pi)*sigma)*np.exp(-0.5*np.power((x-mu)/sigma,2))\n",
    "    \n",
    "    quartiles = (x[x<=(mu-3*sigma)][-1],x[x<=(mu-2*sigma)][-1],x[x<=(mu-sigma)][-1],\n",
    "                x[x>=(mu+sigma)][0],x[x>=(mu+2*sigma)][0],x[x>=(mu+3*sigma)][0])\n",
    "    plt.plot([mu,mu],[0,p.max()],':b')\n",
    "    plt.xticks(ticks=np.hstack([quartiles[:3],[mu],quartiles[3:]]),\n",
    "                                labels=['-3σ\\n0.1%','-2σ\\n2.3%','-σ\\n15.9%','μ\\n50%',\n",
    "                                        '+σ\\n84.1%', '+2σ\\n97.7', '+3σ\\n99.9'],size=11)#, angle=60 )\n",
    "    \n",
    "    plt.ylim([0,0.62])\n",
    "    plt.plot(x,p)"
   ]
  },
  {
   "cell_type": "markdown",
   "metadata": {
    "hidden": true
   },
   "source": [
    "#### PROBABILITY DENSITY FUNCTION (PDF)"
   ]
  },
  {
   "cell_type": "markdown",
   "metadata": {
    "hidden": true
   },
   "source": [
    "\n",
    "Is a ***continous*** function of the probability of an event that can take infinite values ( like the length of a human hair ) in a determined range of values and is the representation of a **&*continous probability distribution***. the values of that function can take values >1 since the values of a point in the function DO NOT represent the probability, unlike in the binomial distribution.\n",
    "\n",
    "The probability of an event to occurr in a guiven range of values in a continous probability distribution is the area under the curve of it's probability density function\n",
    "\n",
    "$$ (13)  \\quad\\quad\\quad P[a<x<b]=\\int_{a}^{b} PDF(x)\\partial x$$\n",
    "\n",
    "$$ (12) \\quad\\quad\\quad P[-\\infty<x<\\infty]=\\int_{-\\infty}^{\\infty} PDF(x)\\partial x=1 $$\n",
    "\n",
    "An example of a continous distribution function is the normal distribution\n",
    "\n"
   ]
  },
  {
   "cell_type": "markdown",
   "metadata": {
    "hidden": true
   },
   "source": [
    "#### CUMULATIVE DISTRIBUTION FUNCTION (CDF)"
   ]
  },
  {
   "cell_type": "markdown",
   "metadata": {
    "hidden": true
   },
   "source": [
    "for a discrete probability distribution.\n",
    "$$ CDF(x) = \\sum_{i=-\\infty}^{x} P(i) $$\n",
    "\n",
    "for a probability density function.\n",
    "$$ CDF(x) = \\int_{-\\infty}^{x} P(x)\\partial x $$\n",
    "\n",
    "$$ P(a<x\\leq b)=CDF(b)-CDF(a)$$\n"
   ]
  },
  {
   "cell_type": "code",
   "execution_count": 4,
   "metadata": {
    "hidden": true,
    "scrolled": false
   },
   "outputs": [
    {
     "data": {
      "image/png": "[encoded data removed]",
      "text/plain": [
       "<Figure size 720x360 with 2 Axes>"
      ]
     },
     "metadata": {
      "needs_background": "light"
     },
     "output_type": "display_data"
    },
    {
     "data": {
      "text/plain": [
       "0.994"
      ]
     },
     "execution_count": 4,
     "metadata": {},
     "output_type": "execute_result"
    }
   ],
   "source": [
    "from math import pi\n",
    "σ=4\n",
    "μ=10\n",
    "\n",
    "x=np.arange(300)/10\n",
    "prob=(1/(sqrt(2*pi)*σ))*(np.exp(-0.5*np.power((x-μ)/σ,2)))/10\n",
    "plt.subplots(1,2,figsize=(10,5))\n",
    "plt.subplot(1,2,1)\n",
    "plt.fill_between(x,prob)\n",
    "plt.plot(x,prob,color='k',linewidth=1.5)\n",
    "plt.title(\"Probability distribution\")\n",
    "\n",
    "plt.subplot(1,2,2)\n",
    "cumul=np.array([np.sum(prob[i::-1]) for i in range(prob.size)])\n",
    "plt.title(\"Probability density Function\\nCumulative Function\\n(the area under the probability distribution)\")\n",
    "plt.plot(x,cumul)\n",
    "plt.show()\n",
    "round(np.sum(prob),3)\n"
   ]
  },
  {
   "cell_type": "code",
   "execution_count": 305,
   "metadata": {
    "hidden": true
   },
   "outputs": [
    {
     "data": {
      "text/plain": [
       "array([0.00495934, 0.00466324, 0.00438208])"
      ]
     },
     "execution_count": 305,
     "metadata": {},
     "output_type": "execute_result"
    }
   ],
   "source": [
    "prob[2::-1]"
   ]
  },
  {
   "cell_type": "code",
   "execution_count": 10,
   "metadata": {
    "hidden": true,
    "scrolled": false
   },
   "outputs": [
    {
     "name": "stdout",
     "output_type": "stream",
     "text": [
      "For a=12,b=20 --> P(a,b) =  0.3492  =  CDF(20)-CDF(12) = 0.3492\n"
     ]
    },
    {
     "data": {
      "image/png": "[encoded data removed]",
      "text/plain": [
       "<Figure size 432x288 with 2 Axes>"
      ]
     },
     "metadata": {
      "needs_background": "light"
     },
     "output_type": "display_data"
    }
   ],
   "source": [
    "#for the exammple of the normal distribution below-->(5) from\n",
    "CDF=np.cumsum(prob)\n",
    "print(\"For a=12,b=20 --> P(a,b) = \",round(np.sum(prob[12:21]),4),\" =  CDF(20)-CDF(12) =\", round(CDF[20]-CDF[11],4))\n",
    "plt.subplot(2,1,1)\n",
    "plt.title(\"CUMULATIVE DISTRIBUTION\")\n",
    "plt.plot(x,CDF)\n",
    "plt.scatter( [x[12],x[20]], [CDF[12],CDF[20]])\n",
    "plt.subplot(2,1,2)\n",
    "plt.plot(x,prob)\n",
    "plt.fill_between(x[12:21],prob[12:21])\n",
    "plt.show()"
   ]
  },
  {
   "cell_type": "markdown",
   "metadata": {
    "heading_collapsed": true
   },
   "source": [
    "###   BERNOULLI DISTRIBUTION"
   ]
  },
  {
   "cell_type": "markdown",
   "metadata": {
    "hidden": true
   },
   "source": [
    "\n",
    "\n",
    "Is a special case of the binomial distribution in which there is random variable ***X*** with two possible\n",
    "boolean outcomes: 1=True,yes,Favorable,accepted... with probability ***p*** or  0=False,no,unfavorable,\n",
    "rejected.... with probability ***(1-p)*** \n",
    "\n",
    "the probability mass function is guiven by:\n",
    "\n",
    "$$ f(x|p)= \\begin{cases} p & \\quad \\text{ if } x=1 \\\\ 1-p & \\quad \\text{ if } x=0 \\end{cases} $$\n",
    "also can be rfepresented as:$$ f(x|p)=p^x(1-p)^{1-x} \\quad \\text{ for } x\\in \\{0,1\\}$$\n",
    "\n",
    "\n",
    "Mean and variance:\n",
    "\\begin{equation*}\n",
    "\\text{from equation (12)}:\\;\\; \\mu=(1-p)0+p(1)\n",
    "\\end{equation*}\n",
    "$$\\mu=p$$\n",
    "$$\\sigma^2=p(1-p)$$<br>\n",
    "$$mode=median=\\begin{cases} 0 & \\text{ if } & p<\\frac{1}{2}\\\\ 0,1 & \\text{ if } & p= \\frac{1}{2}\\\\\n",
    "1 & \\text{if} & p>\\frac{1}{2} \\end{cases}$$\n",
    "\n"
   ]
  }
 ],
 "metadata": {
  "hide_input": false,
  "kernelspec": {
   "display_name": "Python 3 (ipykernel)",
   "language": "python",
   "name": "python3"
  },
  "language_info": {
   "codemirror_mode": {
    "name": "ipython",
    "version": 3
   },
   "file_extension": ".py",
   "mimetype": "text/x-python",
   "name": "python",
   "nbconvert_exporter": "python",
   "pygments_lexer": "ipython3",
   "version": "3.10.10"
  },
  "latex_envs": {
   "LaTeX_envs_menu_present": true,
   "autoclose": false,
   "autocomplete": true,
   "bibliofile": "biblio.bib",
   "cite_by": "apalike",
   "current_citInitial": 1,
   "eqLabelWithNumbers": true,
   "eqNumInitial": 1,
   "hotkeys": {
    "equation": "Ctrl-E",
    "itemize": "Ctrl-I"
   },
   "labels_anchors": false,
   "latex_user_defs": false,
   "report_style_numbering": false,
   "user_envs_cfg": false
  },
  "toc": {
   "base_numbering": 1,
   "nav_menu": {},
   "number_sections": true,
   "sideBar": true,
   "skip_h1_title": false,
   "title_cell": "Table of Contents",
   "title_sidebar": "Contents",
   "toc_cell": false,
   "toc_position": {},
   "toc_section_display": true,
   "toc_window_display": false
  }
 },
 "nbformat": 4,
 "nbformat_minor": 2
}
