{
 "cells": [
  {
   "cell_type": "markdown",
   "metadata": {
    "heading_collapsed": true
   },
   "source": [
    "### Header"
   ]
  },
  {
   "cell_type": "code",
   "execution_count": 1,
   "metadata": {
    "hidden": true
   },
   "outputs": [],
   "source": [
    "import numpy as np\n",
    "import pandas as pd\n",
    "from math import sqrt\n",
    "import matplotlib.pyplot as plt\n",
    "import matplotlib as mpl\n",
    "import ipywidgets as ipw\n",
    "from scipy.stats import zscore\n",
    "from scipy.special import comb\n",
    "from scipy.integrate import quad\n",
    "from sklearn.model_selection import train_test_split\n",
    "\n",
    "def normal_dist(x):\n",
    "        return 1/(np.sqrt(2*np.pi))*np.exp(-0.5*np.power(x,2))\n",
    "    \n",
    "# what value of sigma on x axis of the normal distribution has an area\n",
    "# from -sigma to +sigma equals to the confidence\n",
    "def sigma_from_confidence(conf):\n",
    "    sigma=np.hstack([np.linspace(0,1.5,500), np.linspace(1.505,3.5,400)])\n",
    "    \n",
    "    #half the area from 0 = the integral under curve\n",
    "    area = map(lambda x:quad(normal_dist,0,x)[0] ,sigma) \n",
    "    area = 2*np.round(np.array(list(area)),10)\n",
    "    return sigma[area<conf][-1]\n",
    "\n",
    "def prob_from_zscore(zscore):\n",
    "    area = round(quad(normal_dist,-np.inf,zscore)[0],5)\n",
    "    return area"
   ]
  },
  {
   "cell_type": "code",
   "execution_count": 2,
   "metadata": {
    "hidden": true
   },
   "outputs": [
    {
     "data": {
      "text/plain": [
       "1.0"
      ]
     },
     "execution_count": 2,
     "metadata": {},
     "output_type": "execute_result"
    }
   ],
   "source": [
    "prob_from_zscore(6)"
   ]
  },
  {
   "cell_type": "code",
   "execution_count": 3,
   "metadata": {},
   "outputs": [
    {
     "data": {
      "text/plain": [
       "3.5"
      ]
     },
     "execution_count": 3,
     "metadata": {},
     "output_type": "execute_result"
    }
   ],
   "source": [
    "sigma_from_confidence(99.9999999999999999)"
   ]
  },
  {
   "cell_type": "markdown",
   "metadata": {
    "heading_collapsed": true
   },
   "source": [
    "### HIPOTESIS TESTING"
   ]
  },
  {
   "cell_type": "markdown",
   "metadata": {
    "hidden": true
   },
   "source": [
    "#### Hipotesis $H_0$:\n",
    "Is the hipotesis that there NOT a significant difference between the measured random variable mean and the known mean of the population. \n",
    "\n",
    "#### Hipotesis $H_x$\n",
    "Are the hipotesis that there is significant difference between the random variable and the population.Therefore there is a causality involved in the difference.\n",
    "\n",
    "#### Error type 1:\n",
    "Fail to prove $H_0$. i.e. Wrongly dismissing H0 when it is True.\n",
    "\n",
    "#### Error Type 2:\n",
    "Fail to disprove $H_0$\n",
    "\n",
    "### P-Value:\n",
    "is the probability of the hipostesis $H_0$ being correct. i.e. The probability of a value as extreme or more extreme as the sample mean $\\overline{x}$ occurring in the normal distribution of the population means. A low P-value ( 5% or less ) can be used to conclude the that $H_0$ is incorrect.\n",
    "$$P(-\\mu_{\\overline{x}}\\leq \\overline{x} \\leq +\\mu_{\\overline{x}})\\leq5\\%\\;\\;\\;\\text{\"Two tails\" test case}$$\n",
    "$$P(-\\mu_{\\overline{x}}\\leq \\overline{x})\\leq5 \\;\\;\\;\\; or \\;\\;\\;\\; P(\\overline{x} \\leq +\\mu_{\\overline{x}})\\leq5\\%\\;\\;\\;\\text{\"one tail\" test case}$$\n",
    "\n",
    "Mathematically is the area under the normal distribution of a normal distribution from $-\\infty$ to $-Z\\_Value_{\\overline{x}}$ and from $+Z\\_Value_{\\overline{x}}$ to $\\infty$\n",
    "\n",
    "$$ Z_{\\overline{x}}=\\frac{\\mu_{\\overline{x}}-\\mu}{\\sigma_{\\overline{x}}}$$\n",
    "\n"
   ]
  },
  {
   "cell_type": "code",
   "execution_count": null,
   "metadata": {
    "hidden": true
   },
   "outputs": [],
   "source": [
    "'''An estimulant was tested in 100 rats. The mean response time was 1.05s with std=0.5s. And the known \n",
    "average response time is 1.2. Did the response time had anithing to do with the drug? '''\n",
    "\n",
    "std_err=0.5/sqrt(100)\n",
    "z=(1.05-1.2)/std_err\n",
    "print(z)\n",
    "# since z-score = 3 STD-deviations -> the area under the curve of the std-distribution is 99.4% the the \n",
    "# probability of a the mean of the sample being less from 3 STD-dev from the mean and More than 3 STD-dev\n",
    "# is 0.6% therefore the hipotesis H0 can be discarted, and the response time had to be caused by the drug"
   ]
  },
  {
   "cell_type": "markdown",
   "metadata": {},
   "source": [
    "### Sum of random variables."
   ]
  },
  {
   "cell_type": "markdown",
   "metadata": {},
   "source": [
    "If z = x + y and x and y are independent random variables then:\n",
    "$$E(z)=E(x+y)=E(x)+E(y)$$\n",
    "$$\\mu_z=\\mu_x+\\mu_y$$\n",
    "$$\\sigma_z^2=\\sigma_x^2+\\sigma_y^2$$\n",
    "\n",
    "Similarly if z = x - y and x and y are independent random variables then:\n",
    "$$E(z)=E(x+y)=E(x)-E(y)$$\n",
    "$$\\mu_z=\\mu_x-\\mu_y$$\n",
    "$$\\sigma_z^2=\\sigma_x^2{\\color{red}+}\\sigma_y^2$$\n"
   ]
  },
  {
   "cell_type": "markdown",
   "metadata": {},
   "source": [
    "##### Example 1:\n",
    "Two groups of 100 people each are in a diet. **Group x** is in a low carbohidrate, **group y** in a control diet with no reduction in fat. After months **group x** lost a mean of 9.32lbs with s=4.67lbs. **Group y** lost 7.4lbs with s = 4.04lbs.\n",
    "Find the difference of weight loss between the two groups with a confidence interval of 95%"
   ]
  },
  {
   "cell_type": "code",
   "execution_count": null,
   "metadata": {},
   "outputs": [],
   "source": [
    "diff_mean=9.32-7.4\n",
    "# finding the std of the distributions means from the samples std\n",
    "x_means_dist_std = 4.67/sqrt(100)\n",
    "y_means_dist_std = 4.04/sqrt(100)\n",
    "diff_std = sqrt(pow(x_means_dist_std,2)+pow(y_means_dist_std,2)) #from (9)\n",
    "z_score=sigma_from_confidence(.95)\n",
    "print('Confidence Interval: {} to {}'.format(diff_mean-z_score*diff_std,diff_mean+z_score*diff_std))"
   ]
  },
  {
   "cell_type": "markdown",
   "metadata": {},
   "source": [
    "#### Example 2\n",
    "- prove the low fat diet has a higher weight loss efffect.<br>\n",
    "    hipotesis H0: The low fat diet had no effect on the weight loss, hence $(\\mu_{\\overline{x}})-(\\mu_{\\overline{y}})=0$"
   ]
  },
  {
   "cell_type": "code",
   "execution_count": null,
   "metadata": {},
   "outputs": [],
   "source": [
    "#What is the probability of the mean of the means differences distribution being 0 or less\n",
    "zscore = (diff_mean-0)/diff_std\n",
    "p = round(prob_from_zscore(zscore),4)\n",
    "print('Z-score: {}\\nP-value: {}%'.format(round(zscore,3),round((1-p)*100,4)))\n",
    "#since the p_value is less than 0.1% th null hipotrsis can be discarded"
   ]
  },
  {
   "cell_type": "markdown",
   "metadata": {},
   "source": []
  },
  {
   "cell_type": "code",
   "execution_count": null,
   "metadata": {},
   "outputs": [],
   "source": [
    "## Understanding Histograms\n",
    "\n",
    "x=np.random.randn(10000)\n",
    "plt.subplots(1,2,figsize=(10,5))\n",
    "plt.subplot(1,2,1)\n",
    "y=plt.hist(x,bins=100)[0]\n",
    "plt.subplot(1,2,2)\n",
    "x,y=np.unique(x,return_counts=True)\n",
    "bins = 100\n",
    "X = np.linspace(x.min(),x.max(),bins+1)\n",
    "y = np.zeros(bins)\n",
    "for i in range(bins):\n",
    "    y[i] = np.nonzero(np.logical_and(x>=X[i], x<=X[i+1]))[0].size #conts how many values are between the edges of a bin \n",
    "plt.hist(x,bins=X,)\n",
    "plt.show()"
   ]
  },
  {
   "cell_type": "markdown",
   "metadata": {
    "heading_collapsed": true
   },
   "source": [
    "### SKEWNESS AND KURTOSIS"
   ]
  },
  {
   "cell_type": "markdown",
   "metadata": {
    "hidden": true
   },
   "source": [
    "#### Skewness\n",
    "\n",
    "SKEWNESS MEASURES THE SIMETRY OF A DATA DISTIBUTION. NEGATIVE SKEWNESS INDICATES THE \"TAIL\" OF A DISTRIBUTION IS SKEWED THE LEFT, POSITIVE SKEWNESS MEANS THE \"TAIL\" IS SKEWED TO THE RIGHT.\n",
    "\n",
    "IN THE GRAPH ABOVE THE SKEWNESS IS NEGATIVE.\n",
    "\n",
    "PEARSONS COEFICIENT OF SKEWNESS $$ SK_P = \\Big(\\frac{n}{(n-1)(n-2)}\\Big)\\frac{\\sum_{i=1}^{n}{(x_i-\\mu)^3}}{\\sigma^3} $$\n",
    "\n",
    "WHEN THE DATA CONSISTS OF A FRECUENCY DISTRIBUTION (RANGES OF VALUES WITH A GUIVEN FRECUENCY) THEN IF  f  IS THE FRECUENCY:\n",
    "\n",
    "$$ SK_P = \\Big(\\frac{n}{(n-1)(n-2)}\\Big)\\frac{\\sum_{i=1}^{n}{f\\cdot(x_i-\\mu_{i})^3}}{\\sigma^3} $$\n",
    "\n",
    "\n",
    "#### Kurtosis\n",
    "KURTOSIS MEASURES THE \"FLATNESSS\" OR \"POINTIESNESS\" OF A DATA DISTIBUTION COMPARED TO A NORMAL DISTRIBUTION\n",
    "\n",
    "IN THE GRAPH ABOVE THE KURTOSIS IS POSITIVE SINCE THE GRAPH IS \"POINTY\" INSTEAD OF FLAT\n",
    "\n",
    "$$K =\\Big(\\frac{n(n+1)}{(n-1)(n-2)(n-3)}\\Big)\\cdot\\frac{\\sum_{i=1}^{n} (x_i-\\mu)^4}{\\sigma^4}-\\frac{3(n-1)^2}{(n-2)(n-3)} $$\n",
    "\n",
    "IF IT IS A FRECUENCY DISTRIBUTION THEN $$\\dots\\frac{\\sum_{i=1}^{n} f_i\\cdot(x_i-\\mu_i)^4}{\\sigma^4}\\dots $$"
   ]
  },
  {
   "cell_type": "markdown",
   "metadata": {
    "hidden": true
   },
   "source": [
    "\n",
    "Is a measure of the join variability of two random variables which have a linear relationship.\n",
    "\n",
    "$$\\text{if E is expected value} \\to cov(X,Y)=E[(X-E(X))\\cdot(Y-E(Y))]$$\n",
    "when applied to discretes random variables$$ \\mathcal{\\LARGE\\sigma}_{xy}=\\sum_{(x,y)} f(x,y)\\cdot(x-\\mu_x)(y-\\mu_y)$$\n"
   ]
  },
  {
   "cell_type": "markdown",
   "metadata": {},
   "source": [
    "### <font color='blue'> From _Standard probability and statistics tables and formulae daniel Zwillinger , stephen Kokoska\n",
    "</font>\n"
   ]
  },
  {
   "cell_type": "code",
   "execution_count": null,
   "metadata": {},
   "outputs": [],
   "source": [
    "skew?"
   ]
  },
  {
   "cell_type": "code",
   "execution_count": null,
   "metadata": {},
   "outputs": [],
   "source": [
    "# swimming pool acidity dataset\n",
    "from scipy.stats import mode\n",
    "ph = np.array(\n",
    "    [\n",
    "        6.4, 6.6, 6.2, 7.2, 6.2, 8.1, 7.0,\n",
    "        7.0, 5.9, 5.7, 7.0, 7.4, 6.5, 6.8,\n",
    "        7.0, 7.0, 6.0, 6.3, 5.6, 6.3, 5.8,\n",
    "        5.9, 7.2, 7.3, 7.7, 6.8, 5.2, 5.2,\n",
    "        6.4, 6.3, 6.2, 7.5, 6.7, 6.4, 7.8\n",
    "    ] )\n",
    "print(np.mean(ph),np.median(ph),mode(ph)[0][0],)\n"
   ]
  },
  {
   "cell_type": "code",
   "execution_count": null,
   "metadata": {},
   "outputs": [],
   "source": [
    "from scipy.stats import mode\n",
    "mode([1,1,1,2,2,2,3,3,3])"
   ]
  },
  {
   "cell_type": "code",
   "execution_count": null,
   "metadata": {},
   "outputs": [],
   "source": [
    "np.unique(ph,return_counts=True)"
   ]
  },
  {
   "cell_type": "markdown",
   "metadata": {},
   "source": [
    "### Charasteristic function"
   ]
  },
  {
   "cell_type": "markdown",
   "metadata": {},
   "source": [
    "### Moments"
   ]
  },
  {
   "cell_type": "markdown",
   "metadata": {},
   "source": [
    "### Entropy"
   ]
  },
  {
   "cell_type": "markdown",
   "metadata": {},
   "source": [
    "Laplace distribution: The difference between two independent, identically distributed random variables follow this distribution. Such is the residuals from a model and the real measurements .\n",
    "$$f(x|\\mu,\\beta)=\\frac{1}{2\\beta}e^{-\\frac{|x-\\mu|}{\\beta}}$$\n",
    "knowing that the gamma function is:\n",
    "$$\\Gamma(z)=\\int\\limits_{0}^{\\infty}x^{z-1}e^{-z}dx$$\n",
    "Then the momments are:\n",
    "$$\\mu_r=\\Big(\\frac{1}{2}\\Big)$$"
   ]
  },
  {
   "cell_type": "code",
   "execution_count": null,
   "metadata": {},
   "outputs": [],
   "source": [
    "from ipywidgets import widgets, interact;\n",
    "\n",
    "@interact(alpha = widgets.FloatSlider(min=0.1,max=100,step=0.1,value=10),\n",
    "         beta = widgets.FloatSlider(min=0.1,max=100,step=0.1,value=10),\n",
    "         mu = widgets.FloatSlider(min=-10,max=10,step=0.1,value=1),\n",
    "         sigma = widgets.FloatSlider(min=0.1,max=10,step=0.01,value=1),)\n",
    "def basic_normal_laplace_cdf(alpha,beta,mu,sigma):\n",
    "    \n",
    "    # gaussian probability density function\n",
    "    gpdf = lambda arr,m,s : 1/(s*np.sqrt(2*np.pi))*np.exp(-0.5*np.power((arr-m)/s,2))\n",
    "    \n",
    "    # gaussian cummulative density function\n",
    "    gcdf = lambda arr : np.cumsum(arr)\n",
    "    \n",
    "    # Mills Ratio\n",
    "    R = lambda cdf,pdf: (1-cdf)/pdf\n",
    "    \n",
    "    # normal Laplace probability density function\n",
    "    def nl_pdf(x,alpha,beta,mu,sigma):\n",
    "        pdf = gpdf(x,mu,sigma)\n",
    "        cdf = gcdf(pdf)\n",
    "        r  = R(cdf,pdf)\n",
    "        print(np.any(pdf==0))\n",
    "        L = (x-mu)/sigma\n",
    "        return cdf*L-pdf*L*((beta*r*(alpha*sigma-L)-alpha*r*(beta*sigma+L))/(alpha+beta))\n",
    "    x = np.linspace(-20,20,200)\n",
    "    nld = nl_pdf(x,alpha,beta,mu,sigma)\n",
    "#     print(x,type(nld))\n",
    "    plt.plot(x,nld)"
   ]
  },
  {
   "cell_type": "code",
   "execution_count": null,
   "metadata": {},
   "outputs": [],
   "source": []
  }
 ],
 "metadata": {
  "kernelspec": {
   "display_name": "Python 3 (ipykernel)",
   "language": "python",
   "name": "python3"
  },
  "language_info": {
   "codemirror_mode": {
    "name": "ipython",
    "version": 3
   },
   "file_extension": ".py",
   "mimetype": "text/x-python",
   "name": "python",
   "nbconvert_exporter": "python",
   "pygments_lexer": "ipython3",
   "version": "3.10.10"
  },
  "latex_envs": {
   "LaTeX_envs_menu_present": true,
   "autoclose": false,
   "autocomplete": true,
   "bibliofile": "biblio.bib",
   "cite_by": "apalike",
   "current_citInitial": 1,
   "eqLabelWithNumbers": true,
   "eqNumInitial": 1,
   "hotkeys": {
    "equation": "Ctrl-E",
    "itemize": "Ctrl-I"
   },
   "labels_anchors": false,
   "latex_user_defs": false,
   "report_style_numbering": false,
   "user_envs_cfg": false
  },
  "toc": {
   "base_numbering": 1,
   "nav_menu": {},
   "number_sections": true,
   "sideBar": true,
   "skip_h1_title": false,
   "title_cell": "Table of Contents",
   "title_sidebar": "Contents",
   "toc_cell": false,
   "toc_position": {},
   "toc_section_display": true,
   "toc_window_display": false
  }
 },
 "nbformat": 4,
 "nbformat_minor": 4
}
